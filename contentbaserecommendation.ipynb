{
 "cells": [
  {
   "cell_type": "code",
   "execution_count": 2,
   "metadata": {},
   "outputs": [
    {
     "name": "stdout",
     "output_type": "stream",
     "text": [
      "Recommendations for 'WHITE HANGING HEART T-LIGHT HOLDER':\n",
      "RED HANGING HEART T-LIGHT HOLDER - Similarity Score: 1.0000\n",
      "HEART T-LIGHT HOLDER  - Similarity Score: 1.0000\n",
      "HANGING HEART ZINC T-LIGHT HOLDER - Similarity Score: 1.0000\n",
      "SILVER HANGING T-LIGHT HOLDER - Similarity Score: 1.0000\n",
      "COLOUR GLASS T-LIGHT HOLDER HANGING - Similarity Score: 1.0000\n"
     ]
    }
   ],
   "source": [
    "import pandas as pd\n",
    "from sklearn.feature_extraction.text import TfidfVectorizer\n",
    "from sklearn.metrics.pairwise import cosine_similarity\n",
    "\n",
    "# Load the dataset\n",
    "df = pd.read_excel('Online Retail.xlsx')\n",
    "\n",
    "# Select a smaller subset (first 100 rows) for testing\n",
    "df = df.head(1000)\n",
    "\n",
    "# Convert all descriptions to strings explicitly\n",
    "df['Description'] = df['Description'].apply(lambda x: str(x) if isinstance(x, str) else str(x))\n",
    "\n",
    "# Handle missing descriptions by replacing them with an empty string\n",
    "df['Description'] = df['Description'].fillna('')\n",
    "\n",
    "# Ensure the 'Description' column contains only strings\n",
    "df['Description'] = df['Description'].astype(str)\n",
    "\n",
    "# TF-IDF Vectorization of product descriptions\n",
    "tfidf = TfidfVectorizer(stop_words='english')\n",
    "\n",
    "# Transform the product descriptions into numerical vectors (sparse matrix format)\n",
    "tfidf_matrix = tfidf.fit_transform(df['Description'])\n",
    "\n",
    "# Calculate cosine similarity using sparse matrix operations (avoid dense matrix conversion)\n",
    "cosine_sim = cosine_similarity(tfidf_matrix, tfidf_matrix)\n",
    "\n",
    "# Create a DataFrame for easier access to product names (descriptions)\n",
    "df_cosine_sim = pd.DataFrame(cosine_sim, index=df['Description'], columns=df['Description'])\n",
    "\n",
    "# Function to get recommendations based on product description\n",
    "def get_recommendations(product_description, cosine_sim_matrix, df):\n",
    "    # Get the index of the given product description\n",
    "    idx = df[df['Description'] == product_description].index[0]\n",
    "    \n",
    "    # Get the similarity scores for the given product\n",
    "    sim_scores = list(enumerate(cosine_sim_matrix[idx]))\n",
    "    \n",
    "    # Sort the products based on similarity scores in descending order\n",
    "    sim_scores = sorted(sim_scores, key=lambda x: x[1], reverse=True)\n",
    "    \n",
    "    # Exclude the product itself from the recommendations (the first result is always the product itself)\n",
    "    sim_scores = sim_scores[1:]  # Exclude the product itself\n",
    "    \n",
    "    # Get product indices and their corresponding similarity scores\n",
    "    product_indices = [i[0] for i in sim_scores]\n",
    "    scores = [i[1] for i in sim_scores]\n",
    "    \n",
    "    # Get product descriptions for the most similar products\n",
    "    recommended_products = df.iloc[product_indices]['Description']\n",
    "    \n",
    "    # Remove duplicates and ensure we get only the top 5 unique recommendations\n",
    "    recommended_products = recommended_products[recommended_products != product_description].drop_duplicates().reset_index(drop=True)\n",
    "    \n",
    "    # If there are more than 5 recommendations, keep only the top 5\n",
    "    recommended_products = recommended_products.head(5)\n",
    "    scores = scores[:len(recommended_products)]\n",
    "    \n",
    "    return recommended_products, scores\n",
    "\n",
    "# Example usage: Get recommendations for a product\n",
    "product_description = 'WHITE HANGING HEART T-LIGHT HOLDER'  # Example product\n",
    "\n",
    "recommended_products, scores = get_recommendations(product_description, cosine_sim, df)\n",
    "\n",
    "# Display the recommended products and their similarity scores\n",
    "print(f\"Recommendations for '{product_description}':\")\n",
    "for product, score in zip(recommended_products, scores):\n",
    "    print(f\"{product} - Similarity Score: {score:.4f}\")\n"
   ]
  }
 ],
 "metadata": {
  "kernelspec": {
   "display_name": "Python 3",
   "language": "python",
   "name": "python3"
  },
  "language_info": {
   "codemirror_mode": {
    "name": "ipython",
    "version": 3
   },
   "file_extension": ".py",
   "mimetype": "text/x-python",
   "name": "python",
   "nbconvert_exporter": "python",
   "pygments_lexer": "ipython3",
   "version": "3.12.5"
  }
 },
 "nbformat": 4,
 "nbformat_minor": 2
}
